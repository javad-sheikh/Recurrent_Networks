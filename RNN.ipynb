{
  "nbformat": 4,
  "nbformat_minor": 0,
  "metadata": {
    "colab": {
      "name": "RNN.ipynb",
      "provenance": [],
      "collapsed_sections": [],
      "toc_visible": true,
      "authorship_tag": "ABX9TyPuwP3PvVutpSOABCViVxVK",
      "include_colab_link": true
    },
    "kernelspec": {
      "name": "python3",
      "display_name": "Python 3"
    },
    "accelerator": "GPU"
  },
  "cells": [
    {
      "cell_type": "markdown",
      "metadata": {
        "id": "view-in-github",
        "colab_type": "text"
      },
      "source": [
        "<a href=\"https://colab.research.google.com/github/javad-sheikh/Recurrent_Networks/blob/main/RNN.ipynb\" target=\"_parent\"><img src=\"https://colab.research.google.com/assets/colab-badge.svg\" alt=\"Open In Colab\"/></a>"
      ]
    },
    {
      "cell_type": "code",
      "metadata": {
        "id": "6DiY6ex_wqJx",
        "colab": {
          "base_uri": "https://localhost:8080/",
          "height": 35
        },
        "outputId": "40f2cc29-1f00-4b4f-a700-c9bc31b1eaa9"
      },
      "source": [
        "try:\n",
        "    %tensorflow_version 2.x\n",
        "except Exception:\n",
        "    pass\n",
        "import tensorflow as tf\n",
        "tf.__version__"
      ],
      "execution_count": null,
      "outputs": [
        {
          "output_type": "execute_result",
          "data": {
            "application/vnd.google.colaboratory.intrinsic+json": {
              "type": "string"
            },
            "text/plain": [
              "'2.3.0'"
            ]
          },
          "metadata": {
            "tags": []
          },
          "execution_count": 1
        }
      ]
    },
    {
      "cell_type": "code",
      "metadata": {
        "id": "exOMBDoSUuqP"
      },
      "source": [
        "from __future__ import absolute_import, division, print_function, unicode_literals\n",
        "import numpy as np\n",
        "import tensorflow as tf\n",
        "import tensorflow.keras as keras\n",
        "import pandas as pd\n",
        "import os\n",
        "import datetime\n",
        "%load_ext tensorboard"
      ],
      "execution_count": null,
      "outputs": []
    },
    {
      "cell_type": "code",
      "metadata": {
        "id": "bVVHCaEAnHid",
        "colab": {
          "base_uri": "https://localhost:8080/"
        },
        "outputId": "8b436444-951a-4470-fe28-a097881bc9da"
      },
      "source": [
        "from google.colab import drive\n",
        "drive.mount('/content/drive')"
      ],
      "execution_count": null,
      "outputs": [
        {
          "output_type": "stream",
          "text": [
            "Mounted at /content/drive\n"
          ],
          "name": "stdout"
        }
      ]
    },
    {
      "cell_type": "code",
      "metadata": {
        "id": "8fZTy5cyn-_v"
      },
      "source": [
        "path = \"/content/drive/My Drive/ANN/HW5_RNN/Tamin.Petro..csv\"\n",
        "rawdata = pd.read_csv(path)\n",
        "Train = rawdata.iloc[22:]['<CLOSE>']\n",
        "Test = rawdata.iloc[:22]['<CLOSE>']\n",
        "Test = np.flip(Test)\n",
        "Train = np.flip(Train)\n",
        "Test = np.asarray(Test)\n",
        "Train = np.asarray(Train)\n",
        "out_dim = len(Test)\n",
        "in_dim =100"
      ],
      "execution_count": null,
      "outputs": []
    },
    {
      "cell_type": "code",
      "metadata": {
        "colab": {
          "base_uri": "https://localhost:8080/"
        },
        "id": "n8UIKl8RH5Yt",
        "outputId": "c61a3edf-5c92-4973-ac1a-777365d01ecc"
      },
      "source": [
        ""
      ],
      "execution_count": null,
      "outputs": [
        {
          "output_type": "execute_result",
          "data": {
            "text/plain": [
              "22"
            ]
          },
          "metadata": {
            "tags": []
          },
          "execution_count": 8
        }
      ]
    },
    {
      "cell_type": "code",
      "metadata": {
        "id": "b7a_NYAvpWcP"
      },
      "source": [
        "x_Train = []\n",
        "y_Train = []\n",
        "for i in range(len(Train)-121):\n",
        "    x_Train.append(Train[i:i+100])\n",
        "    y_Train.append(Train[i+100:i+122])"
      ],
      "execution_count": null,
      "outputs": []
    },
    {
      "cell_type": "code",
      "metadata": {
        "id": "t_uuHcRts6wd"
      },
      "source": [
        "x_Test = np.asarray(Train[-100:])\n",
        "y_Test = np.asarray(Test)"
      ],
      "execution_count": null,
      "outputs": []
    },
    {
      "cell_type": "code",
      "metadata": {
        "id": "RGXLmZ-SsmXg"
      },
      "source": [
        "x_Train = np.asarray(x_Train)\n",
        "y_Train = np.asarray(y_Train)"
      ],
      "execution_count": null,
      "outputs": []
    },
    {
      "cell_type": "markdown",
      "metadata": {
        "id": "61BspbO53efm"
      },
      "source": [
        "# Jordan :"
      ]
    },
    {
      "cell_type": "code",
      "metadata": {
        "id": "2xP7A46ujDsa"
      },
      "source": [
        "tf.keras.backend.clear_session()\n",
        "class Jordan(keras.Model):\n",
        "   \n",
        "    def __init__(self):\n",
        "        super(Jordan,self).__init__()\n",
        "        self.feedback = tf.Variable(tf.reshape(tf.zeros(out_dim),(-1,out_dim),name=\"feedback\"))\n",
        "\n",
        "\n",
        "    def build(self,_):\n",
        "        self.l1 = keras.layers.Dense(32, dtype=tf.float32,activation=\"relu\")\n",
        "        self.l2 = keras.layers.Dense(16, dtype=tf.float32,activation=\"relu\")\n",
        "        self.out = keras.layers.Dense(out_dim, dtype=tf.float32,activation=\"relu\")\n",
        "    \n",
        "    def call(self, inputs):\n",
        "        x1 = keras.layers.concatenate([self.feedback,tf.reshape(inputs,[-1,in_dim])])\n",
        "        x2 = self.l1(x1)\n",
        "        x3 = self.l2(x2)\n",
        "        my_output = self.out(x3)\n",
        "        self.feedback.assign(my_output)\n",
        "        return my_output"
      ],
      "execution_count": null,
      "outputs": []
    },
    {
      "cell_type": "code",
      "metadata": {
        "id": "gBVgbIuDlK7j",
        "colab": {
          "base_uri": "https://localhost:8080/",
          "height": 430
        },
        "outputId": "c6306281-fc87-4886-ea2a-31995d17e014"
      },
      "source": [
        "jordan = Jordan()\n",
        "\n",
        "jordan.compile(optimizer=\"adam\", loss=\"mse\")\n",
        "\n",
        "logdir = os.path.join(\"logs1\", \"mse\")\n",
        "tensorboard_callback = tf.keras.callbacks.TensorBoard(logdir, histogram_freq=1)\n",
        "\n",
        "jordan.fit(x_Train, y_Train, epochs=100,batch_size=1,callbacks=[tensorboard_callback])\n",
        "\n",
        "t = np.arange(22)\n",
        "pred = jordan.predict(np.reshape(x_Test,[-1,in_dim]))\n",
        "print(\"predictions are :\\n\",pred)\n",
        "print(\"real values are :\\n\",y_Test)\n",
        "import matplotlib.pyplot as plt\n",
        "\n",
        "plt.plot(t,np.reshape(pred,[22,-1]))\n",
        "plt.plot(t,np.reshape(y_Test,[22,-1]))\n",
        "plt.legend(labels=[\"Predictions\",\"Real values\"])\n",
        "plt.xlabel(\"time\")\n",
        "plt.ylabel(\"value\")"
      ],
      "execution_count": null,
      "outputs": [
        {
          "output_type": "stream",
          "text": [
            "predictions are :\n",
            " [[3899.5527 3935.1553 3968.8564 3982.1375 3982.239  3983.7168 3987.242\n",
            "  3975.652  3962.8435 3970.888  3967.922  3962.4905 3961.2275 3962.2815\n",
            "  3938.1328 3917.0918 3914.371  3892.883  3896.4746    0.     3904.256\n",
            "  3912.885 ]]\n",
            "real values are :\n",
            " [3872. 4036. 3979. 4009. 3993. 3986. 3951. 3996. 3798. 3793. 3756. 3709.\n",
            " 3783. 3972. 4166. 4173. 4225. 4313. 4311. 4302. 4310. 4283.]\n"
          ],
          "name": "stdout"
        },
        {
          "output_type": "execute_result",
          "data": {
            "text/plain": [
              "Text(0, 0.5, 'value')"
            ]
          },
          "metadata": {
            "tags": []
          },
          "execution_count": 18
        },
        {
          "output_type": "display_data",
          "data": {
            "image/png": "[encoded data removed]",
            "text/plain": [
              "<Figure size 432x288 with 1 Axes>"
            ]
          },
          "metadata": {
            "tags": []
          }
        }
      ]
    },
    {
      "cell_type": "code",
      "metadata": {
        "id": "M3MN05uCtFL3",
        "colab": {
          "base_uri": "https://localhost:8080/",
          "height": 1000
        },
        "outputId": "5642597e-b6ff-441b-817a-2986b8d348d3"
      },
      "source": [
        "jordan.compile(optimizer=\"adam\", loss=\"mae\")\n",
        "\n",
        "logdir = os.path.join(\"logs1\", \"mae\")\n",
        "tensorboard_callback = tf.keras.callbacks.TensorBoard(logdir, histogram_freq=1)\n",
        "\n",
        "jordan.fit(x_Train, y_Train, epochs=100,batch_size=1,callbacks=[tensorboard_callback])\n",
        "\n",
        "t = np.arange(22)\n",
        "pred = jordan.predict(np.reshape(x_Test,[-1,in_dim]))\n",
        "print(\"predictions are :\\n\",pred)\n",
        "print(\"real values are :\\n\",y_Test)\n",
        "import matplotlib.pyplot as plt\n",
        "\n",
        "plt.plot(t,np.reshape(pred,[22,-1]))\n",
        "plt.plot(t,np.reshape(y_Test,[22,-1]))\n",
        "plt.legend(labels=[\"Predictions\",\"Real values\"])\n",
        "plt.xlabel(\"time\")\n",
        "plt.ylabel(\"value\")\n"
      ],
      "execution_count": null,
      "outputs": [
        {
          "output_type": "stream",
          "text": [
            "Train on 1296 samples\n",
            "Epoch 1/100\n",
            "1296/1296 [==============================] - 4s 3ms/sample - loss: 263.6439\n",
            "Epoch 2/100\n",
            "1296/1296 [==============================] - 3s 3ms/sample - loss: 260.8615\n",
            "Epoch 3/100\n",
            "1296/1296 [==============================] - 3s 3ms/sample - loss: 266.7558\n",
            "Epoch 4/100\n",
            "1296/1296 [==============================] - 3s 3ms/sample - loss: 259.3491\n",
            "Epoch 5/100\n",
            "1296/1296 [==============================] - 4s 3ms/sample - loss: 264.7928\n",
            "Epoch 6/100\n",
            "1296/1296 [==============================] - 4s 3ms/sample - loss: 260.1362\n",
            "Epoch 7/100\n",
            "1296/1296 [==============================] - 4s 3ms/sample - loss: 263.0362\n",
            "Epoch 8/100\n",
            "1296/1296 [==============================] - 4s 3ms/sample - loss: 259.5296\n",
            "Epoch 9/100\n",
            "1296/1296 [==============================] - 3s 3ms/sample - loss: 263.4748\n",
            "Epoch 10/100\n",
            "1296/1296 [==============================] - 4s 3ms/sample - loss: 261.6106\n",
            "Epoch 11/100\n",
            "1296/1296 [==============================] - 3s 3ms/sample - loss: 262.7438\n",
            "Epoch 12/100\n",
            "1296/1296 [==============================] - 4s 3ms/sample - loss: 257.0354\n",
            "Epoch 13/100\n",
            "1296/1296 [==============================] - 3s 3ms/sample - loss: 261.8889\n",
            "Epoch 14/100\n",
            "1296/1296 [==============================] - 3s 3ms/sample - loss: 261.8686\n",
            "Epoch 15/100\n",
            "1296/1296 [==============================] - 3s 3ms/sample - loss: 260.8951\n",
            "Epoch 16/100\n",
            "1296/1296 [==============================] - 3s 3ms/sample - loss: 262.1232\n",
            "Epoch 17/100\n",
            "1296/1296 [==============================] - 3s 3ms/sample - loss: 260.0786\n",
            "Epoch 18/100\n",
            "1296/1296 [==============================] - 3s 3ms/sample - loss: 258.5286\n",
            "Epoch 19/100\n",
            "1296/1296 [==============================] - 3s 3ms/sample - loss: 260.1521\n",
            "Epoch 20/100\n",
            "1296/1296 [==============================] - 4s 3ms/sample - loss: 257.2858\n",
            "Epoch 21/100\n",
            "1296/1296 [==============================] - 3s 3ms/sample - loss: 261.1931\n",
            "Epoch 22/100\n",
            "1296/1296 [==============================] - 3s 3ms/sample - loss: 261.8669\n",
            "Epoch 23/100\n",
            "1296/1296 [==============================] - 3s 3ms/sample - loss: 261.1306\n",
            "Epoch 24/100\n",
            "1296/1296 [==============================] - 3s 3ms/sample - loss: 261.9478\n",
            "Epoch 25/100\n",
            "1296/1296 [==============================] - 3s 3ms/sample - loss: 259.5076\n",
            "Epoch 26/100\n",
            "1296/1296 [==============================] - 3s 3ms/sample - loss: 261.5522\n",
            "Epoch 27/100\n",
            "1296/1296 [==============================] - 3s 3ms/sample - loss: 260.8155\n",
            "Epoch 28/100\n",
            "1296/1296 [==============================] - 4s 3ms/sample - loss: 262.0982\n",
            "Epoch 29/100\n",
            "1296/1296 [==============================] - 4s 3ms/sample - loss: 258.9781\n",
            "Epoch 30/100\n",
            "1296/1296 [==============================] - 3s 3ms/sample - loss: 259.5889\n",
            "Epoch 31/100\n",
            "1296/1296 [==============================] - 3s 3ms/sample - loss: 258.7124\n",
            "Epoch 32/100\n",
            "1296/1296 [==============================] - 3s 3ms/sample - loss: 259.5913\n",
            "Epoch 33/100\n",
            "1296/1296 [==============================] - 3s 3ms/sample - loss: 259.9234\n",
            "Epoch 34/100\n",
            "1296/1296 [==============================] - 3s 3ms/sample - loss: 259.7718\n",
            "Epoch 35/100\n",
            "1296/1296 [==============================] - 3s 3ms/sample - loss: 258.8816\n",
            "Epoch 36/100\n",
            "1296/1296 [==============================] - 4s 3ms/sample - loss: 257.5373\n",
            "Epoch 37/100\n",
            "1296/1296 [==============================] - 4s 3ms/sample - loss: 258.8954\n",
            "Epoch 38/100\n",
            "1296/1296 [==============================] - 3s 3ms/sample - loss: 258.3973\n",
            "Epoch 39/100\n",
            "1296/1296 [==============================] - 3s 3ms/sample - loss: 259.7034\n",
            "Epoch 40/100\n",
            "1296/1296 [==============================] - 3s 3ms/sample - loss: 256.6963\n",
            "Epoch 41/100\n",
            "1296/1296 [==============================] - 3s 3ms/sample - loss: 257.4635\n",
            "Epoch 42/100\n",
            "1296/1296 [==============================] - 3s 3ms/sample - loss: 261.0935\n",
            "Epoch 43/100\n",
            "1296/1296 [==============================] - 4s 3ms/sample - loss: 260.3341\n",
            "Epoch 44/100\n",
            "1296/1296 [==============================] - 4s 3ms/sample - loss: 255.8368\n",
            "Epoch 45/100\n",
            "1296/1296 [==============================] - 4s 3ms/sample - loss: 258.9985\n",
            "Epoch 46/100\n",
            "1296/1296 [==============================] - 4s 3ms/sample - loss: 260.2127\n",
            "Epoch 47/100\n",
            "1296/1296 [==============================] - 3s 3ms/sample - loss: 257.4840\n",
            "Epoch 48/100\n",
            "1296/1296 [==============================] - 3s 3ms/sample - loss: 256.5474\n",
            "Epoch 49/100\n",
            "1296/1296 [==============================] - 3s 3ms/sample - loss: 259.7411\n",
            "Epoch 50/100\n",
            "1296/1296 [==============================] - 4s 3ms/sample - loss: 257.7940\n",
            "Epoch 51/100\n",
            "1296/1296 [==============================] - 3s 3ms/sample - loss: 256.8467\n",
            "Epoch 52/100\n",
            "1296/1296 [==============================] - 3s 3ms/sample - loss: 255.7739\n",
            "Epoch 53/100\n",
            "1296/1296 [==============================] - 3s 3ms/sample - loss: 258.5033\n",
            "Epoch 54/100\n",
            "1296/1296 [==============================] - 4s 3ms/sample - loss: 257.3815\n",
            "Epoch 55/100\n",
            "1296/1296 [==============================] - 3s 3ms/sample - loss: 262.0451\n",
            "Epoch 56/100\n",
            "1296/1296 [==============================] - 3s 3ms/sample - loss: 258.5644\n",
            "Epoch 57/100\n",
            "1296/1296 [==============================] - 4s 3ms/sample - loss: 255.8745\n",
            "Epoch 58/100\n",
            "1296/1296 [==============================] - 4s 3ms/sample - loss: 258.5825\n",
            "Epoch 59/100\n",
            "1296/1296 [==============================] - 4s 3ms/sample - loss: 258.0772\n",
            "Epoch 60/100\n",
            "1296/1296 [==============================] - 3s 3ms/sample - loss: 255.8072\n",
            "Epoch 61/100\n",
            "1296/1296 [==============================] - 3s 3ms/sample - loss: 260.2284\n",
            "Epoch 62/100\n",
            "1296/1296 [==============================] - 4s 3ms/sample - loss: 257.3375\n",
            "Epoch 63/100\n",
            "1296/1296 [==============================] - 4s 3ms/sample - loss: 257.0010\n",
            "Epoch 64/100\n",
            "1296/1296 [==============================] - 3s 3ms/sample - loss: 259.0492\n",
            "Epoch 65/100\n",
            "1296/1296 [==============================] - 3s 3ms/sample - loss: 257.9377\n",
            "Epoch 66/100\n",
            "1296/1296 [==============================] - 3s 3ms/sample - loss: 255.4861\n",
            "Epoch 67/100\n",
            "1296/1296 [==============================] - 3s 3ms/sample - loss: 256.8738\n",
            "Epoch 68/100\n",
            "1296/1296 [==============================] - 3s 3ms/sample - loss: 257.7427\n",
            "Epoch 69/100\n",
            "1296/1296 [==============================] - 4s 3ms/sample - loss: 257.1283\n",
            "Epoch 70/100\n",
            "1296/1296 [==============================] - 3s 3ms/sample - loss: 260.1132\n",
            "Epoch 71/100\n",
            "1296/1296 [==============================] - 4s 3ms/sample - loss: 256.1419\n",
            "Epoch 72/100\n",
            "1296/1296 [==============================] - 3s 3ms/sample - loss: 256.4550\n",
            "Epoch 73/100\n",
            "1296/1296 [==============================] - 3s 3ms/sample - loss: 254.2786\n",
            "Epoch 74/100\n",
            "1296/1296 [==============================] - 4s 3ms/sample - loss: 257.5471\n",
            "Epoch 75/100\n",
            "1296/1296 [==============================] - 4s 3ms/sample - loss: 258.2981\n",
            "Epoch 76/100\n",
            "1296/1296 [==============================] - 4s 3ms/sample - loss: 257.4304\n",
            "Epoch 77/100\n",
            "1296/1296 [==============================] - 3s 3ms/sample - loss: 258.4407\n",
            "Epoch 78/100\n",
            "1296/1296 [==============================] - 3s 3ms/sample - loss: 257.2283\n",
            "Epoch 79/100\n",
            "1296/1296 [==============================] - 4s 3ms/sample - loss: 259.5589\n",
            "Epoch 80/100\n",
            "1296/1296 [==============================] - 4s 3ms/sample - loss: 257.3205\n",
            "Epoch 81/100\n",
            "1296/1296 [==============================] - 4s 3ms/sample - loss: 255.0166\n",
            "Epoch 82/100\n",
            "1296/1296 [==============================] - 4s 3ms/sample - loss: 257.0806\n",
            "Epoch 83/100\n",
            "1296/1296 [==============================] - 4s 3ms/sample - loss: 257.0737\n",
            "Epoch 84/100\n",
            "1296/1296 [==============================] - 4s 3ms/sample - loss: 256.1618\n",
            "Epoch 85/100\n",
            "1296/1296 [==============================] - 4s 3ms/sample - loss: 256.4181\n",
            "Epoch 86/100\n",
            "1296/1296 [==============================] - 4s 3ms/sample - loss: 256.3282\n",
            "Epoch 87/100\n",
            "1296/1296 [==============================] - 4s 3ms/sample - loss: 256.2032\n",
            "Epoch 88/100\n",
            "1296/1296 [==============================] - 4s 3ms/sample - loss: 254.9058\n",
            "Epoch 89/100\n",
            "1296/1296 [==============================] - 3s 3ms/sample - loss: 258.2437\n",
            "Epoch 90/100\n",
            "1296/1296 [==============================] - 4s 3ms/sample - loss: 257.1540\n",
            "Epoch 91/100\n",
            "1296/1296 [==============================] - 4s 3ms/sample - loss: 257.9009\n",
            "Epoch 92/100\n",
            "1296/1296 [==============================] - 4s 3ms/sample - loss: 257.3471\n",
            "Epoch 93/100\n",
            "1296/1296 [==============================] - 4s 3ms/sample - loss: 256.6586\n",
            "Epoch 94/100\n",
            "1296/1296 [==============================] - 4s 3ms/sample - loss: 255.3928\n",
            "Epoch 95/100\n",
            "1296/1296 [==============================] - 4s 3ms/sample - loss: 256.9604\n",
            "Epoch 96/100\n",
            "1280/1296 [============================>.] - ETA: 0s - loss: 256.0104"
          ],
          "name": "stdout"
        }
      ]
    },
    {
      "cell_type": "code",
      "metadata": {
        "id": "_mhLgGuQnHA0"
      },
      "source": [
        "%tensorboard --logdir logs1"
      ],
      "execution_count": null,
      "outputs": []
    },
    {
      "cell_type": "markdown",
      "metadata": {
        "id": "7NbsZ5jtnOzN"
      },
      "source": [
        "\n",
        "# Elman :\n"
      ]
    },
    {
      "cell_type": "code",
      "metadata": {
        "id": "A6Ma5jUSnaJi"
      },
      "source": [
        "tf.keras.backend.clear_session()\n",
        "class Elman(keras.Model):\n",
        "   \n",
        "    def __init__(self):\n",
        "        super(Elman,self).__init__()\n",
        "        self.feedback = tf.Variable(tf.reshape(tf.zeros(32),(-1,32),name=\"feedback\"))\n",
        "\n",
        "\n",
        "    def build(self,_):\n",
        "        self.l1 = keras.layers.Dense(32, dtype=tf.float32,activation=\"relu\")\n",
        "        self.l2 = keras.layers.Dense(64, dtype=tf.float32,activation=\"relu\")\n",
        "        self.l3 = keras.layers.Dense(32, dtype=tf.float32,activation=\"relu\")\n",
        "        self.myout = keras.layers.Dense(out_dim, dtype=tf.float32, activation=\"relu\")\n",
        "    def call(self, inputs):\n",
        "        x1 = keras.layers.concatenate([self.feedback,tf.reshape(inputs,[-1,in_dim])])\n",
        "        x2 = self.l1(x1)\n",
        "        x3 = self.l2(x2)\n",
        "        x4 = self.l3(x3)\n",
        "        self.feedback.assign(x4)\n",
        "        my_out = self.myout(x4)\n",
        "        return my_out"
      ],
      "execution_count": null,
      "outputs": []
    },
    {
      "cell_type": "code",
      "metadata": {
        "id": "JryC2Nk7osBH"
      },
      "source": [
        "elman = Elman()\n",
        "\n",
        "elman.compile(optimizer=\"adam\", loss=\"mse\")\n",
        "\n",
        "logdir = os.path.join(\"logs2\", \"mse\")\n",
        "tensorboard_callback = tf.keras.callbacks.TensorBoard(logdir, histogram_freq=1)\n",
        "\n",
        "elman.fit(x_Train, y_Train, epochs=100,batch_size=1,callbacks=[tensorboard_callback])\n",
        "\n",
        "t = np.arange(22)\n",
        "pred = elman.predict(np.reshape(x_Test,[-1,in_dim]))\n",
        "print(\"predictions are :\\n\",pred)\n",
        "print(\"real values are :\\n\",y_Test)\n",
        "import matplotlib.pyplot as plt\n",
        "\n",
        "plt.plot(t,np.reshape(pred,[22,-1]))\n",
        "plt.plot(t,np.reshape(y_Test,[22,-1]))\n",
        "plt.legend(labels=[\"Predictions\",\"Real values\"])\n",
        "plt.xlabel(\"time\")\n",
        "plt.ylabel(\"value\")"
      ],
      "execution_count": null,
      "outputs": []
    },
    {
      "cell_type": "code",
      "metadata": {
        "id": "sW4lAbljv6ql"
      },
      "source": [
        "elman.compile(optimizer=\"adam\", loss=\"mae\")\n",
        "\n",
        "logdir = os.path.join(\"logs2\", \"mae\")\n",
        "tensorboard_callback = tf.keras.callbacks.TensorBoard(logdir, histogram_freq=1)\n",
        "\n",
        "elman.fit(x_Train, y_Train, epochs=100,batch_size=1,callbacks=[tensorboard_callback])\n",
        "\n",
        "t = np.arange(22)\n",
        "pred = elman.predict(np.reshape(x_Test,[-1,in_dim]))\n",
        "print(\"predictions are :\\n\",pred)\n",
        "print(\"real values are :\\n\",y_Test)\n",
        "import matplotlib.pyplot as plt\n",
        "\n",
        "plt.plot(t,np.reshape(pred,[22,-1]))\n",
        "plt.plot(t,np.reshape(y_Test,[22,-1]))\n",
        "plt.legend(labels=[\"Predictions\",\"Real values\"])\n",
        "plt.xlabel(\"time\")\n",
        "plt.ylabel(\"value\")"
      ],
      "execution_count": null,
      "outputs": []
    },
    {
      "cell_type": "code",
      "metadata": {
        "id": "xVn3yFuswMQm"
      },
      "source": [
        "%tensorboard --logdir logs2"
      ],
      "execution_count": null,
      "outputs": []
    },
    {
      "cell_type": "markdown",
      "metadata": {
        "id": "GYDhxehm3nYW"
      },
      "source": [
        "# RMLP"
      ]
    },
    {
      "cell_type": "code",
      "metadata": {
        "id": "IxrGLtgcoyEY"
      },
      "source": [
        "class R_layer(keras.layers.Layer):\n",
        "    def __init__(self, input_dim):\n",
        "        super(R_layer, self).__init__()\n",
        "        self.input_dim = input_dim\n",
        "\n",
        "    def build(self, input_shape):\n",
        "        self.feed = tf.Variable(tf.reshape(tf.zeros(self.input_dim),(-1,self.input_dim),name=\"feedback\"))\n",
        "        self.den = keras.layers.Dense(self.input_dim)\n",
        "\n",
        "    def call(self,inputs):\n",
        "        x = keras.layers.concatenate([self.feed,inputs])\n",
        "        x = self.den(x)\n",
        "        self.feed.assign(x)\n",
        "        return x"
      ],
      "execution_count": null,
      "outputs": []
    },
    {
      "cell_type": "code",
      "metadata": {
        "id": "3fj48KzpdvNr"
      },
      "source": [
        "RMLP = keras.models.Sequential([keras.Input((in_dim,)),R_layer(input_dim=64),R_layer(input_dim=32),R_layer(input_dim=out_dim)])\n",
        "\n",
        "RMLP.compile(optimizer=\"adam\", loss=\"mse\")\n",
        "\n",
        "logdir = os.path.join(\"logs3\", \"mse\")\n",
        "tensorboard_callback = tf.keras.callbacks.TensorBoard(logdir)\n",
        "\n",
        "RMLP.fit(x_Train, y_Train, epochs=100,batch_size=1,callbacks=[tensorboard_callback])\n",
        "\n",
        "t = np.arange(22)\n",
        "pred = RMLP.predict(np.reshape(x_Test,[-1,in_dim]))\n",
        "print(\"predictions are :\\n\",pred)\n",
        "print(\"real values are :\\n\",y_Test)\n",
        "import matplotlib.pyplot as plt\n",
        "\n",
        "plt.plot(t,np.reshape(pred,[22,-1]))\n",
        "plt.plot(t,np.reshape(y_Test,[22,-1]))\n",
        "plt.legend(labels=[\"Predictions\",\"Real values\"])\n",
        "plt.xlabel(\"time\")\n",
        "plt.ylabel(\"value\")"
      ],
      "execution_count": null,
      "outputs": []
    },
    {
      "cell_type": "code",
      "metadata": {
        "id": "6mpup9yAxkbP"
      },
      "source": [
        "RMLP = keras.models.Sequential([keras.Input((in_dim,)),R_layer(input_dim=64),R_layer(input_dim=32),R_layer(input_dim=out_dim)])\n",
        "\n",
        "RMLP.compile(optimizer=\"adam\", loss=\"mae\")\n",
        "\n",
        "logdir = os.path.join(\"logs3\", \"mae\")\n",
        "tensorboard_callback = tf.keras.callbacks.TensorBoard(logdir)\n",
        "\n",
        "RMLP.fit(x_Train, y_Train, epochs=100,batch_size=1,callbacks=[tensorboard_callback])\n",
        "\n",
        "t = np.arange(22)\n",
        "pred = RMLP.predict(np.reshape(x_Test,[-1,in_dim]))\n",
        "print(\"predictions are :\\n\",pred)\n",
        "print(\"real values are :\\n\",y_Test)\n",
        "import matplotlib.pyplot as plt\n",
        "\n",
        "plt.plot(t,np.reshape(pred,[22,-1]))\n",
        "plt.plot(t,np.reshape(y_Test,[22,-1]))\n",
        "plt.legend(labels=[\"Predictions\",\"Real values\"])\n",
        "plt.xlabel(\"time\")\n",
        "plt.ylabel(\"value\")"
      ],
      "execution_count": null,
      "outputs": []
    },
    {
      "cell_type": "code",
      "metadata": {
        "id": "LuFgOOTHxkP4"
      },
      "source": [
        "%tensorboard --logdir logs3"
      ],
      "execution_count": null,
      "outputs": []
    },
    {
      "cell_type": "code",
      "metadata": {
        "id": "qUM9jH2R_OL1",
        "colab": {
          "base_uri": "https://localhost:8080/",
          "height": 1000
        },
        "outputId": "1466b7ef-82c4-4f47-8e7c-feb78f9e9aa6"
      },
      "source": [
        "RMLP = keras.models.Sequential([keras.Input((in_dim,)),R_layer(input_dim=64),R_layer(input_dim=32),\n",
        "                                R_layer(input_dim=32),R_layer(input_dim=out_dim)])\n",
        "\n",
        "RMLP.compile(optimizer=\"adam\", loss=\"mae\")\n",
        "\n",
        "logdir = os.path.join(\"logs3\", \"mae\")\n",
        "tensorboard_callback = tf.keras.callbacks.TensorBoard(logdir)\n",
        "\n",
        "RMLP.fit(x_Train, y_Train, epochs=100,batch_size=1,callbacks=[tensorboard_callback])\n",
        "\n",
        "t = np.arange(22)\n",
        "pred = RMLP.predict(np.reshape(x_Test,[-1,in_dim]))\n",
        "print(\"predictions are :\\n\",pred)\n",
        "print(\"real values are :\\n\",y_Test)\n",
        "import matplotlib.pyplot as plt\n",
        "\n",
        "plt.plot(t,np.reshape(pred,[22,-1]))\n",
        "plt.plot(t,np.reshape(y_Test,[22,-1]))\n",
        "plt.legend(labels=[\"Predictions\",\"Real values\"])\n",
        "plt.xlabel(\"time\")\n",
        "plt.ylabel(\"value\")"
      ],
      "execution_count": null,
      "outputs": [
        {
          "output_type": "stream",
          "text": [
            "Train on 1296 samples\n",
            "WARNING:tensorflow:Model failed to serialize as JSON. Ignoring... Layers with arguments in `__init__` must override `get_config`.\n",
            "Epoch 1/100\n",
            "1296/1296 [==============================] - 5s 4ms/sample - loss: 1407.2486\n",
            "Epoch 2/100\n",
            "1296/1296 [==============================] - 4s 3ms/sample - loss: 394.8156\n",
            "Epoch 3/100\n",
            "1296/1296 [==============================] - 4s 3ms/sample - loss: 338.3590\n",
            "Epoch 4/100\n",
            "1296/1296 [==============================] - 4s 3ms/sample - loss: 301.4389\n",
            "Epoch 5/100\n",
            "1296/1296 [==============================] - 4s 3ms/sample - loss: 303.6049\n",
            "Epoch 6/100\n",
            "1296/1296 [==============================] - 4s 3ms/sample - loss: 287.2646\n",
            "Epoch 7/100\n",
            "1296/1296 [==============================] - 4s 3ms/sample - loss: 272.7872\n",
            "Epoch 8/100\n",
            "1296/1296 [==============================] - 4s 3ms/sample - loss: 263.3647\n",
            "Epoch 9/100\n",
            "1296/1296 [==============================] - 4s 3ms/sample - loss: 261.2614\n",
            "Epoch 10/100\n",
            "1296/1296 [==============================] - 4s 3ms/sample - loss: 250.7636\n",
            "Epoch 11/100\n",
            "1296/1296 [==============================] - 4s 3ms/sample - loss: 250.4401\n",
            "Epoch 12/100\n",
            "1296/1296 [==============================] - 4s 3ms/sample - loss: 241.5402\n",
            "Epoch 13/100\n",
            "1296/1296 [==============================] - 4s 3ms/sample - loss: 241.1731\n",
            "Epoch 14/100\n",
            "1296/1296 [==============================] - 4s 3ms/sample - loss: 232.2502\n",
            "Epoch 15/100\n",
            "1296/1296 [==============================] - 4s 3ms/sample - loss: 234.4574\n",
            "Epoch 16/100\n",
            "1296/1296 [==============================] - 4s 3ms/sample - loss: 225.0194\n",
            "Epoch 17/100\n",
            "1296/1296 [==============================] - 4s 3ms/sample - loss: 223.9962\n",
            "Epoch 18/100\n",
            "1296/1296 [==============================] - 4s 3ms/sample - loss: 232.7435\n",
            "Epoch 19/100\n",
            "1296/1296 [==============================] - 4s 3ms/sample - loss: 224.1851\n",
            "Epoch 20/100\n",
            "1296/1296 [==============================] - 4s 3ms/sample - loss: 221.0450\n",
            "Epoch 21/100\n",
            "1296/1296 [==============================] - 4s 3ms/sample - loss: 231.0775\n",
            "Epoch 22/100\n",
            "1296/1296 [==============================] - 4s 3ms/sample - loss: 218.4076\n",
            "Epoch 23/100\n",
            "1296/1296 [==============================] - 4s 3ms/sample - loss: 230.5543\n",
            "Epoch 24/100\n",
            "1296/1296 [==============================] - 4s 3ms/sample - loss: 214.6078\n",
            "Epoch 25/100\n",
            "1296/1296 [==============================] - 4s 3ms/sample - loss: 217.5989\n",
            "Epoch 26/100\n",
            "1296/1296 [==============================] - 4s 3ms/sample - loss: 222.7133\n",
            "Epoch 27/100\n",
            "1296/1296 [==============================] - 4s 3ms/sample - loss: 209.7013\n",
            "Epoch 28/100\n",
            "1296/1296 [==============================] - 4s 3ms/sample - loss: 211.5051\n",
            "Epoch 29/100\n",
            "1296/1296 [==============================] - 4s 3ms/sample - loss: 208.6514\n",
            "Epoch 30/100\n",
            "1296/1296 [==============================] - 4s 3ms/sample - loss: 215.6536\n",
            "Epoch 31/100\n",
            "1296/1296 [==============================] - 4s 3ms/sample - loss: 216.0810\n",
            "Epoch 32/100\n",
            "1296/1296 [==============================] - 4s 3ms/sample - loss: 213.0684\n",
            "Epoch 33/100\n",
            "1296/1296 [==============================] - 4s 3ms/sample - loss: 212.5825\n",
            "Epoch 34/100\n",
            "1296/1296 [==============================] - 4s 3ms/sample - loss: 211.9915\n",
            "Epoch 35/100\n",
            "1296/1296 [==============================] - 4s 3ms/sample - loss: 203.4961\n",
            "Epoch 36/100\n",
            "1296/1296 [==============================] - 4s 3ms/sample - loss: 207.7622\n",
            "Epoch 37/100\n",
            "1296/1296 [==============================] - 4s 3ms/sample - loss: 202.0617\n",
            "Epoch 38/100\n",
            "1296/1296 [==============================] - 4s 3ms/sample - loss: 212.6339\n",
            "Epoch 39/100\n",
            "1296/1296 [==============================] - 4s 3ms/sample - loss: 200.6511\n",
            "Epoch 40/100\n",
            "1296/1296 [==============================] - 4s 3ms/sample - loss: 202.8809\n",
            "Epoch 41/100\n",
            "1296/1296 [==============================] - 4s 3ms/sample - loss: 199.7016\n",
            "Epoch 42/100\n",
            "1296/1296 [==============================] - 4s 3ms/sample - loss: 209.5353\n",
            "Epoch 43/100\n",
            "1296/1296 [==============================] - 4s 3ms/sample - loss: 202.9527\n",
            "Epoch 44/100\n",
            "1296/1296 [==============================] - 4s 3ms/sample - loss: 196.7357\n",
            "Epoch 45/100\n",
            "1296/1296 [==============================] - 4s 3ms/sample - loss: 208.9867\n",
            "Epoch 46/100\n",
            "1296/1296 [==============================] - 4s 3ms/sample - loss: 201.8907\n",
            "Epoch 47/100\n",
            "1296/1296 [==============================] - 4s 3ms/sample - loss: 201.9368\n",
            "Epoch 48/100\n",
            "1296/1296 [==============================] - 4s 3ms/sample - loss: 202.4126\n",
            "Epoch 49/100\n",
            "1296/1296 [==============================] - 4s 3ms/sample - loss: 200.6806\n",
            "Epoch 50/100\n",
            "1296/1296 [==============================] - 4s 3ms/sample - loss: 197.9990\n",
            "Epoch 51/100\n",
            "1296/1296 [==============================] - 4s 3ms/sample - loss: 195.7117\n",
            "Epoch 52/100\n",
            "1296/1296 [==============================] - 4s 3ms/sample - loss: 199.6271\n",
            "Epoch 53/100\n",
            "1296/1296 [==============================] - 4s 3ms/sample - loss: 192.2183\n",
            "Epoch 54/100\n",
            "1296/1296 [==============================] - 4s 3ms/sample - loss: 196.5896\n",
            "Epoch 55/100\n",
            "1296/1296 [==============================] - 4s 3ms/sample - loss: 196.5645\n",
            "Epoch 56/100\n",
            "1296/1296 [==============================] - 4s 3ms/sample - loss: 196.0197\n",
            "Epoch 57/100\n",
            "1296/1296 [==============================] - 4s 3ms/sample - loss: 194.7922\n",
            "Epoch 58/100\n",
            "1296/1296 [==============================] - 4s 3ms/sample - loss: 196.8415\n",
            "Epoch 59/100\n",
            "1296/1296 [==============================] - 4s 3ms/sample - loss: 195.1861\n",
            "Epoch 60/100\n",
            "1296/1296 [==============================] - 4s 3ms/sample - loss: 193.1714\n",
            "Epoch 61/100\n",
            "1296/1296 [==============================] - 4s 3ms/sample - loss: 195.1048\n",
            "Epoch 62/100\n",
            "1296/1296 [==============================] - 4s 3ms/sample - loss: 195.3982\n",
            "Epoch 63/100\n",
            "1296/1296 [==============================] - 4s 3ms/sample - loss: 194.6586\n",
            "Epoch 64/100\n",
            "1296/1296 [==============================] - 4s 3ms/sample - loss: 188.4059\n",
            "Epoch 65/100\n",
            "1296/1296 [==============================] - 4s 3ms/sample - loss: 193.4581\n",
            "Epoch 66/100\n",
            "1296/1296 [==============================] - 4s 3ms/sample - loss: 189.7273\n",
            "Epoch 67/100\n",
            "1296/1296 [==============================] - 4s 3ms/sample - loss: 192.0310\n",
            "Epoch 68/100\n",
            "1296/1296 [==============================] - 4s 3ms/sample - loss: 191.2038\n",
            "Epoch 69/100\n",
            "1296/1296 [==============================] - 4s 3ms/sample - loss: 195.6601\n",
            "Epoch 70/100\n",
            "1296/1296 [==============================] - 4s 3ms/sample - loss: 186.8930\n",
            "Epoch 71/100\n",
            "1296/1296 [==============================] - 4s 3ms/sample - loss: 194.1860\n",
            "Epoch 72/100\n",
            "1296/1296 [==============================] - 4s 3ms/sample - loss: 188.0914\n",
            "Epoch 73/100\n",
            "1296/1296 [==============================] - 4s 3ms/sample - loss: 196.2771\n",
            "Epoch 74/100\n",
            "1296/1296 [==============================] - 4s 3ms/sample - loss: 192.3976\n",
            "Epoch 75/100\n",
            "1296/1296 [==============================] - 4s 3ms/sample - loss: 188.5605\n",
            "Epoch 76/100\n",
            "1296/1296 [==============================] - 4s 3ms/sample - loss: 198.6969\n",
            "Epoch 77/100\n",
            "1296/1296 [==============================] - 4s 3ms/sample - loss: 190.4510\n",
            "Epoch 78/100\n",
            "1296/1296 [==============================] - 4s 3ms/sample - loss: 193.1450\n",
            "Epoch 79/100\n",
            "1296/1296 [==============================] - 4s 3ms/sample - loss: 192.6337\n",
            "Epoch 80/100\n",
            "1296/1296 [==============================] - 4s 3ms/sample - loss: 198.8313\n",
            "Epoch 81/100\n",
            "1296/1296 [==============================] - 4s 3ms/sample - loss: 189.7375\n",
            "Epoch 82/100\n",
            "1296/1296 [==============================] - 4s 3ms/sample - loss: 190.5558\n",
            "Epoch 83/100\n",
            "1296/1296 [==============================] - 4s 3ms/sample - loss: 194.5250\n",
            "Epoch 84/100\n",
            "1296/1296 [==============================] - 4s 3ms/sample - loss: 193.8578\n",
            "Epoch 85/100\n",
            "1296/1296 [==============================] - 4s 3ms/sample - loss: 186.2264\n",
            "Epoch 86/100\n",
            "1296/1296 [==============================] - 4s 3ms/sample - loss: 189.2462\n",
            "Epoch 87/100\n",
            "1296/1296 [==============================] - 4s 3ms/sample - loss: 195.2373\n",
            "Epoch 88/100\n",
            "1296/1296 [==============================] - 4s 3ms/sample - loss: 184.2753\n",
            "Epoch 89/100\n",
            "1296/1296 [==============================] - 4s 3ms/sample - loss: 190.3925\n",
            "Epoch 90/100\n",
            "1296/1296 [==============================] - 4s 3ms/sample - loss: 190.6274\n",
            "Epoch 91/100\n",
            "1296/1296 [==============================] - 4s 3ms/sample - loss: 190.2545\n",
            "Epoch 92/100\n",
            "1296/1296 [==============================] - 4s 3ms/sample - loss: 196.2303\n",
            "Epoch 93/100\n",
            "1296/1296 [==============================] - 4s 3ms/sample - loss: 185.8863\n",
            "Epoch 94/100\n",
            "1296/1296 [==============================] - 4s 3ms/sample - loss: 192.9049\n",
            "Epoch 95/100\n",
            "1296/1296 [==============================] - 4s 3ms/sample - loss: 186.8623\n",
            "Epoch 96/100\n",
            "1296/1296 [==============================] - 4s 3ms/sample - loss: 187.8193\n",
            "Epoch 97/100\n",
            "1296/1296 [==============================] - 4s 3ms/sample - loss: 193.9451\n",
            "Epoch 98/100\n",
            "1296/1296 [==============================] - 4s 3ms/sample - loss: 186.6724\n",
            "Epoch 99/100\n",
            "1296/1296 [==============================] - 4s 3ms/sample - loss: 192.8094\n",
            "Epoch 100/100\n",
            "1296/1296 [==============================] - 4s 3ms/sample - loss: 188.9777\n",
            "predictions are :\n",
            " [[3912.2349 3874.0103 3750.1528 3864.067  3836.1433 3751.577  3699.6243\n",
            "  3730.7605 3762.5032 3764.5588 3664.823  3771.162  3805.1335 3742.6428\n",
            "  3694.231  3794.393  3807.4224 3734.0618 3810.875  3824.3535 3835.5718\n",
            "  3772.997 ]]\n",
            "real values are :\n",
            " [3872. 4036. 3979. 4009. 3993. 3986. 3951. 3996. 3798. 3793. 3756. 3709.\n",
            " 3783. 3972. 4166. 4173. 4225. 4313. 4311. 4302. 4310. 4283.]\n"
          ],
          "name": "stdout"
        },
        {
          "output_type": "execute_result",
          "data": {
            "text/plain": [
              "Text(0, 0.5, 'value')"
            ]
          },
          "metadata": {
            "tags": []
          },
          "execution_count": 30
        },
        {
          "output_type": "display_data",
          "data": {
            "image/png": "[encoded data removed]",
            "text/plain": [
              "<Figure size 432x288 with 1 Axes>"
            ]
          },
          "metadata": {
            "tags": []
          }
        }
      ]
    },
    {
      "cell_type": "code",
      "metadata": {
        "id": "cuh6Skxn_N_H",
        "colab": {
          "base_uri": "https://localhost:8080/",
          "height": 1000
        },
        "outputId": "049fa576-b241-483f-f945-1d2c372d2295"
      },
      "source": [
        "RMLP = keras.models.Sequential([keras.Input((in_dim,)),R_layer(input_dim=64),R_layer(input_dim=out_dim)])\n",
        "\n",
        "RMLP.compile(optimizer=\"adam\", loss=\"mae\")\n",
        "\n",
        "logdir = os.path.join(\"logs3\", \"mae\")\n",
        "tensorboard_callback = tf.keras.callbacks.TensorBoard(logdir)\n",
        "\n",
        "RMLP.fit(x_Train, y_Train, epochs=100,batch_size=1,callbacks=[tensorboard_callback])\n",
        "\n",
        "t = np.arange(22)\n",
        "pred = RMLP.predict(np.reshape(x_Test,[-1,in_dim]))\n",
        "print(\"predictions are :\\n\",pred)\n",
        "print(\"real values are :\\n\",y_Test)\n",
        "import matplotlib.pyplot as plt\n",
        "\n",
        "plt.plot(t,np.reshape(pred,[22,-1]))\n",
        "plt.plot(t,np.reshape(y_Test,[22,-1]))\n",
        "plt.legend(labels=[\"Predictions\",\"Real values\"])\n",
        "plt.xlabel(\"time\")\n",
        "plt.ylabel(\"value\")"
      ],
      "execution_count": null,
      "outputs": [
        {
          "output_type": "stream",
          "text": [
            "Train on 1296 samples\n",
            "WARNING:tensorflow:Model failed to serialize as JSON. Ignoring... Layers with arguments in `__init__` must override `get_config`.\n",
            "Epoch 1/100\n",
            "1296/1296 [==============================] - 4s 3ms/sample - loss: 729.8698\n",
            "Epoch 2/100\n",
            "1296/1296 [==============================] - 4s 3ms/sample - loss: 364.5402\n",
            "Epoch 3/100\n",
            "1296/1296 [==============================] - 4s 3ms/sample - loss: 301.2914\n",
            "Epoch 4/100\n",
            "1296/1296 [==============================] - 4s 3ms/sample - loss: 273.9487\n",
            "Epoch 5/100\n",
            "1296/1296 [==============================] - 4s 3ms/sample - loss: 257.7273\n",
            "Epoch 6/100\n",
            "1296/1296 [==============================] - 4s 3ms/sample - loss: 256.5853\n",
            "Epoch 7/100\n",
            "1296/1296 [==============================] - 4s 3ms/sample - loss: 240.9985\n",
            "Epoch 8/100\n",
            "1296/1296 [==============================] - 4s 3ms/sample - loss: 243.7269\n",
            "Epoch 9/100\n",
            "1296/1296 [==============================] - 4s 3ms/sample - loss: 234.2866\n",
            "Epoch 10/100\n",
            "1296/1296 [==============================] - 4s 3ms/sample - loss: 223.6848\n",
            "Epoch 11/100\n",
            "1296/1296 [==============================] - 4s 3ms/sample - loss: 229.2727\n",
            "Epoch 12/100\n",
            "1296/1296 [==============================] - 4s 3ms/sample - loss: 220.2190\n",
            "Epoch 13/100\n",
            "1296/1296 [==============================] - 4s 3ms/sample - loss: 223.6178\n",
            "Epoch 14/100\n",
            "1296/1296 [==============================] - 4s 3ms/sample - loss: 218.3521\n",
            "Epoch 15/100\n",
            "1296/1296 [==============================] - 4s 3ms/sample - loss: 213.5210\n",
            "Epoch 16/100\n",
            "1296/1296 [==============================] - 4s 3ms/sample - loss: 211.6542\n",
            "Epoch 17/100\n",
            "1296/1296 [==============================] - 4s 3ms/sample - loss: 208.4678\n",
            "Epoch 18/100\n",
            "1296/1296 [==============================] - 4s 3ms/sample - loss: 212.6233\n",
            "Epoch 19/100\n",
            "1296/1296 [==============================] - 4s 3ms/sample - loss: 205.0839\n",
            "Epoch 20/100\n",
            "1296/1296 [==============================] - 4s 3ms/sample - loss: 209.7317\n",
            "Epoch 21/100\n",
            "1296/1296 [==============================] - 4s 3ms/sample - loss: 206.7841\n",
            "Epoch 22/100\n",
            "1296/1296 [==============================] - 4s 3ms/sample - loss: 204.0366\n",
            "Epoch 23/100\n",
            "1296/1296 [==============================] - 4s 3ms/sample - loss: 200.3766\n",
            "Epoch 24/100\n",
            "1296/1296 [==============================] - 4s 3ms/sample - loss: 203.5828\n",
            "Epoch 25/100\n",
            "1296/1296 [==============================] - 4s 3ms/sample - loss: 203.5156\n",
            "Epoch 26/100\n",
            "1296/1296 [==============================] - 4s 3ms/sample - loss: 201.2002\n",
            "Epoch 27/100\n",
            "1296/1296 [==============================] - 4s 3ms/sample - loss: 202.8691\n",
            "Epoch 28/100\n",
            "1296/1296 [==============================] - 4s 3ms/sample - loss: 206.9733\n",
            "Epoch 29/100\n",
            "1296/1296 [==============================] - 4s 3ms/sample - loss: 200.8721\n",
            "Epoch 30/100\n",
            "1296/1296 [==============================] - 4s 3ms/sample - loss: 201.5888\n",
            "Epoch 31/100\n",
            "1296/1296 [==============================] - 4s 3ms/sample - loss: 197.8310\n",
            "Epoch 32/100\n",
            "1296/1296 [==============================] - 4s 3ms/sample - loss: 201.8083\n",
            "Epoch 33/100\n",
            "1296/1296 [==============================] - 4s 3ms/sample - loss: 196.8892\n",
            "Epoch 34/100\n",
            "1296/1296 [==============================] - 4s 3ms/sample - loss: 193.9359\n",
            "Epoch 35/100\n",
            "1296/1296 [==============================] - 4s 3ms/sample - loss: 198.3201\n",
            "Epoch 36/100\n",
            "1296/1296 [==============================] - 4s 3ms/sample - loss: 199.7622\n",
            "Epoch 37/100\n",
            "1296/1296 [==============================] - 4s 3ms/sample - loss: 199.9945\n",
            "Epoch 38/100\n",
            "1296/1296 [==============================] - 4s 3ms/sample - loss: 203.2283\n",
            "Epoch 39/100\n",
            "1296/1296 [==============================] - 4s 3ms/sample - loss: 196.4789\n",
            "Epoch 40/100\n",
            "1296/1296 [==============================] - 4s 3ms/sample - loss: 196.1661\n",
            "Epoch 41/100\n",
            "1296/1296 [==============================] - 4s 3ms/sample - loss: 196.2949\n",
            "Epoch 42/100\n",
            "1296/1296 [==============================] - 4s 3ms/sample - loss: 192.9445\n",
            "Epoch 43/100\n",
            "1296/1296 [==============================] - 4s 3ms/sample - loss: 201.7826\n",
            "Epoch 44/100\n",
            "1296/1296 [==============================] - 4s 3ms/sample - loss: 199.8224\n",
            "Epoch 45/100\n",
            "1296/1296 [==============================] - 4s 3ms/sample - loss: 190.8213\n",
            "Epoch 46/100\n",
            "1296/1296 [==============================] - 4s 3ms/sample - loss: 192.5215\n",
            "Epoch 47/100\n",
            "1296/1296 [==============================] - 4s 3ms/sample - loss: 194.0436\n",
            "Epoch 48/100\n",
            "1296/1296 [==============================] - 4s 3ms/sample - loss: 193.2407\n",
            "Epoch 49/100\n",
            "1296/1296 [==============================] - 4s 3ms/sample - loss: 200.0267\n",
            "Epoch 50/100\n",
            "1296/1296 [==============================] - 4s 3ms/sample - loss: 194.3149\n",
            "Epoch 51/100\n",
            "1296/1296 [==============================] - 4s 3ms/sample - loss: 191.4347\n",
            "Epoch 52/100\n",
            "1296/1296 [==============================] - 4s 3ms/sample - loss: 198.3021\n",
            "Epoch 53/100\n",
            "1296/1296 [==============================] - 4s 3ms/sample - loss: 196.0915\n",
            "Epoch 54/100\n",
            "1296/1296 [==============================] - 4s 3ms/sample - loss: 201.8716\n",
            "Epoch 55/100\n",
            "1296/1296 [==============================] - 4s 3ms/sample - loss: 191.6379\n",
            "Epoch 56/100\n",
            "1296/1296 [==============================] - 4s 3ms/sample - loss: 193.2625\n",
            "Epoch 57/100\n",
            "1296/1296 [==============================] - 4s 3ms/sample - loss: 193.2013\n",
            "Epoch 58/100\n",
            "1296/1296 [==============================] - 4s 3ms/sample - loss: 193.2812\n",
            "Epoch 59/100\n",
            "1296/1296 [==============================] - 4s 3ms/sample - loss: 195.0712\n",
            "Epoch 60/100\n",
            "1296/1296 [==============================] - 4s 3ms/sample - loss: 198.8749\n",
            "Epoch 61/100\n",
            "1296/1296 [==============================] - 4s 3ms/sample - loss: 192.4849\n",
            "Epoch 62/100\n",
            "1296/1296 [==============================] - 4s 3ms/sample - loss: 188.7585\n",
            "Epoch 63/100\n",
            "1296/1296 [==============================] - 4s 3ms/sample - loss: 193.6290\n",
            "Epoch 64/100\n",
            "1296/1296 [==============================] - 4s 3ms/sample - loss: 192.8256\n",
            "Epoch 65/100\n",
            "1296/1296 [==============================] - 4s 3ms/sample - loss: 194.2932\n",
            "Epoch 66/100\n",
            "1296/1296 [==============================] - 4s 3ms/sample - loss: 188.9428\n",
            "Epoch 67/100\n",
            "1296/1296 [==============================] - 4s 3ms/sample - loss: 194.7696\n",
            "Epoch 68/100\n",
            "1296/1296 [==============================] - 4s 3ms/sample - loss: 190.1751\n",
            "Epoch 69/100\n",
            "1296/1296 [==============================] - 4s 3ms/sample - loss: 186.3157\n",
            "Epoch 70/100\n",
            "1296/1296 [==============================] - 4s 3ms/sample - loss: 189.8540\n",
            "Epoch 71/100\n",
            "1296/1296 [==============================] - 4s 3ms/sample - loss: 191.1795\n",
            "Epoch 72/100\n",
            "1296/1296 [==============================] - 4s 3ms/sample - loss: 191.4753\n",
            "Epoch 73/100\n",
            "1296/1296 [==============================] - 4s 3ms/sample - loss: 201.1437\n",
            "Epoch 74/100\n",
            "1296/1296 [==============================] - 4s 3ms/sample - loss: 193.4287\n",
            "Epoch 75/100\n",
            "1296/1296 [==============================] - 4s 3ms/sample - loss: 192.3164\n",
            "Epoch 76/100\n",
            "1296/1296 [==============================] - 4s 3ms/sample - loss: 193.6285\n",
            "Epoch 77/100\n",
            "1296/1296 [==============================] - 4s 3ms/sample - loss: 191.9022\n",
            "Epoch 78/100\n",
            "1296/1296 [==============================] - 4s 3ms/sample - loss: 190.3509\n",
            "Epoch 79/100\n",
            "1296/1296 [==============================] - 4s 3ms/sample - loss: 189.2999\n",
            "Epoch 80/100\n",
            "1296/1296 [==============================] - 4s 3ms/sample - loss: 192.6978\n",
            "Epoch 81/100\n",
            "1296/1296 [==============================] - 4s 3ms/sample - loss: 193.0207\n",
            "Epoch 82/100\n",
            "1296/1296 [==============================] - 4s 3ms/sample - loss: 190.9737\n",
            "Epoch 83/100\n",
            "1296/1296 [==============================] - 4s 3ms/sample - loss: 189.8062\n",
            "Epoch 84/100\n",
            "1296/1296 [==============================] - 4s 3ms/sample - loss: 186.4420\n",
            "Epoch 85/100\n",
            "1296/1296 [==============================] - 4s 3ms/sample - loss: 187.6651\n",
            "Epoch 86/100\n",
            "1296/1296 [==============================] - 4s 3ms/sample - loss: 188.3349\n",
            "Epoch 87/100\n",
            "1296/1296 [==============================] - 4s 3ms/sample - loss: 190.1643\n",
            "Epoch 88/100\n",
            "1296/1296 [==============================] - 4s 3ms/sample - loss: 185.1461\n",
            "Epoch 89/100\n",
            "1296/1296 [==============================] - 4s 3ms/sample - loss: 188.4268\n",
            "Epoch 90/100\n",
            "1296/1296 [==============================] - 4s 3ms/sample - loss: 187.3908\n",
            "Epoch 91/100\n",
            "1296/1296 [==============================] - 4s 3ms/sample - loss: 184.2133\n",
            "Epoch 92/100\n",
            "1296/1296 [==============================] - 4s 3ms/sample - loss: 190.2983\n",
            "Epoch 93/100\n",
            "1296/1296 [==============================] - 4s 3ms/sample - loss: 191.2290\n",
            "Epoch 94/100\n",
            "1296/1296 [==============================] - 4s 3ms/sample - loss: 187.0555\n",
            "Epoch 95/100\n",
            "1296/1296 [==============================] - 4s 3ms/sample - loss: 187.9575\n",
            "Epoch 96/100\n",
            "1296/1296 [==============================] - 4s 3ms/sample - loss: 185.5465\n",
            "Epoch 97/100\n",
            "1296/1296 [==============================] - 4s 3ms/sample - loss: 191.3608\n",
            "Epoch 98/100\n",
            "1296/1296 [==============================] - 4s 3ms/sample - loss: 187.2739\n",
            "Epoch 99/100\n",
            "1296/1296 [==============================] - 4s 3ms/sample - loss: 184.6684\n",
            "Epoch 100/100\n",
            "1296/1296 [==============================] - 4s 3ms/sample - loss: 187.7440\n",
            "predictions are :\n",
            " [[3688.7986 3807.0066 3603.4211 3490.8804 3706.3184 3506.1992 3640.4229\n",
            "  3690.2024 3621.8225 3594.4856 3552.084  3606.859  3425.24   3350.4702\n",
            "  3466.2588 3589.202  3605.96   3747.0706 3680.6296 3771.8208 3819.1443\n",
            "  3618.7395]]\n",
            "real values are :\n",
            " [3872. 4036. 3979. 4009. 3993. 3986. 3951. 3996. 3798. 3793. 3756. 3709.\n",
            " 3783. 3972. 4166. 4173. 4225. 4313. 4311. 4302. 4310. 4283.]\n"
          ],
          "name": "stdout"
        },
        {
          "output_type": "execute_result",
          "data": {
            "text/plain": [
              "Text(0, 0.5, 'value')"
            ]
          },
          "metadata": {
            "tags": []
          },
          "execution_count": 31
        },
        {
          "output_type": "display_data",
          "data": {
            "image/png": "[encoded data removed]",
            "text/plain": [
              "<Figure size 432x288 with 1 Axes>"
            ]
          },
          "metadata": {
            "tags": []
          }
        }
      ]
    },
    {
      "cell_type": "code",
      "metadata": {
        "id": "gfv1zma5_giB",
        "colab": {
          "base_uri": "https://localhost:8080/",
          "height": 968
        },
        "outputId": "48b932fa-fef9-4084-9f90-48be79521b69"
      },
      "source": [
        "RMLP = keras.models.Sequential([keras.Input((in_dim,)),R_layer(input_dim=128),R_layer(input_dim=100),\n",
        "                                R_layer(input_dim=80),R_layer(input_dim=60),R_layer(input_dim=40),R_layer(input_dim=out_dim)])\n",
        "\n",
        "RMLP.compile(optimizer=\"adam\", loss=\"mae\")\n",
        "\n",
        "logdir = os.path.join(\"logs3\", \"mae\")\n",
        "tensorboard_callback = tf.keras.callbacks.TensorBoard(logdir)\n",
        "\n",
        "RMLP.fit(x_Train, y_Train, epochs=15,batch_size=1,callbacks=[tensorboard_callback])\n",
        "\n",
        "t = np.arange(22)\n",
        "pred = RMLP.predict(np.reshape(x_Test,[-1,in_dim]))\n",
        "print(\"predictions are :\\n\",pred)\n",
        "print(\"real values are :\\n\",y_Test)\n",
        "import matplotlib.pyplot as plt\n",
        "\n",
        "plt.plot(t,np.reshape(pred,[22,-1]))\n",
        "plt.plot(t,np.reshape(y_Test,[22,-1]))\n",
        "plt.legend(labels=[\"Predictions\",\"Real values\"])\n",
        "plt.xlabel(\"time\")\n",
        "plt.ylabel(\"value\")"
      ],
      "execution_count": null,
      "outputs": [
        {
          "output_type": "stream",
          "text": [
            "Train on 1296 samples\n",
            "WARNING:tensorflow:Model failed to serialize as JSON. Ignoring... Layers with arguments in `__init__` must override `get_config`.\n",
            "Epoch 1/15\n",
            "1296/1296 [==============================] - 5s 4ms/sample - loss: 3509.4441\n",
            "Epoch 2/15\n",
            "1296/1296 [==============================] - 5s 4ms/sample - loss: 670.4202\n",
            "Epoch 3/15\n",
            "1296/1296 [==============================] - 5s 4ms/sample - loss: 500.3208\n",
            "Epoch 4/15\n",
            "1296/1296 [==============================] - 5s 4ms/sample - loss: 429.9228\n",
            "Epoch 5/15\n",
            "1296/1296 [==============================] - 5s 4ms/sample - loss: 388.3839\n",
            "Epoch 6/15\n",
            "1296/1296 [==============================] - 4s 3ms/sample - loss: 384.7294\n",
            "Epoch 7/15\n",
            "1296/1296 [==============================] - 5s 3ms/sample - loss: 353.1345\n",
            "Epoch 8/15\n",
            "1296/1296 [==============================] - 5s 4ms/sample - loss: 343.8952\n",
            "Epoch 9/15\n",
            "1296/1296 [==============================] - 5s 3ms/sample - loss: 349.1155\n",
            "Epoch 10/15\n",
            "1296/1296 [==============================] - 4s 3ms/sample - loss: 371.5883\n",
            "Epoch 11/15\n",
            "1296/1296 [==============================] - 4s 3ms/sample - loss: 303.9675\n",
            "Epoch 12/15\n",
            "1296/1296 [==============================] - 4s 3ms/sample - loss: 328.2205\n",
            "Epoch 13/15\n",
            "1296/1296 [==============================] - 4s 3ms/sample - loss: 287.6804\n",
            "Epoch 14/15\n",
            "1296/1296 [==============================] - 4s 3ms/sample - loss: 310.7917\n",
            "Epoch 15/15\n",
            "1296/1296 [==============================] - 4s 3ms/sample - loss: 262.9681\n",
            "predictions are :\n",
            " [[3924.304  3779.659  3733.031  3849.5605 3645.2651 3881.9692 3839.8015\n",
            "  3800.4648 3629.7703 3661.031  3609.4805 3557.2285 3332.634  3552.8184\n",
            "  3544.241  3709.0166 3811.232  3686.6318 3537.9954 3906.614  3568.7502\n",
            "  3540.799 ]]\n",
            "real values are :\n",
            " [3872. 4036. 3979. 4009. 3993. 3986. 3951. 3996. 3798. 3793. 3756. 3709.\n",
            " 3783. 3972. 4166. 4173. 4225. 4313. 4311. 4302. 4310. 4283.]\n"
          ],
          "name": "stdout"
        },
        {
          "output_type": "execute_result",
          "data": {
            "text/plain": [
              "Text(0, 0.5, 'value')"
            ]
          },
          "metadata": {
            "tags": []
          },
          "execution_count": 33
        },
        {
          "output_type": "display_data",
          "data": {
            "image/png": "[encoded data removed]",
            "text/plain": [
              "<Figure size 432x288 with 1 Axes>"
            ]
          },
          "metadata": {
            "tags": []
          }
        }
      ]
    },
    {
      "cell_type": "markdown",
      "metadata": {
        "id": "xjn2l1rvxsbh"
      },
      "source": [
        "# Gharb Cement"
      ]
    },
    {
      "cell_type": "code",
      "metadata": {
        "id": "Nc3Nt3W3uV4i"
      },
      "source": [
        "path = \"/content/drive/My Drive/HW5_RNN/Gharb.Cement..csv\"\n",
        "rawdata = pd.read_csv(path)\n",
        "Test = rawdata.iloc[:rawdata.loc[rawdata[\"<DTYYYYMMDD>\"]==20191222].index[0]+1]['<CLOSE>']\n",
        "Train = rawdata.iloc[rawdata.loc[rawdata[\"<DTYYYYMMDD>\"]==20191222].index[0]+1:]['<CLOSE>']\n",
        "\n",
        "x_Train=np.asarray(Train.iloc[:Train.size-1])\n",
        "y_Train=np.asarray(Train.iloc[1:])\n",
        "\n",
        "logdir = os.path.join(\"Gharb Cement\", \"Jordan\")\n",
        "tensorboard_callback = tf.keras.callbacks.TensorBoard(logdir, histogram_freq=1)\n",
        "\n",
        "jordan.fit(x_Train, y_Train, epochs=20,batch_size=1,callbacks=[tensorboard_callback])\n",
        "\n",
        "logdir = os.path.join(\"Gharb Cement\", \"Elman\")\n",
        "tensorboard_callback = tf.keras.callbacks.TensorBoard(logdir, histogram_freq=1)\n",
        "\n",
        "elman.fit(x_Train, y_Train, epochs=20,batch_size=1,callbacks=[tensorboard_callback])\n",
        "\n",
        "logdir = os.path.join(\"Gharb Cement\", \"RMLP\")\n",
        "tensorboard_callback = tf.keras.callbacks.TensorBoard(logdir)\n",
        "\n",
        "RMLP.fit(x_Train, y_Train, epochs=20,batch_size=1,callbacks=[tensorboard_callback])"
      ],
      "execution_count": null,
      "outputs": []
    },
    {
      "cell_type": "markdown",
      "metadata": {
        "id": "LOyzeaQR0W04"
      },
      "source": [
        "# I..N..C..Ind."
      ]
    },
    {
      "cell_type": "code",
      "metadata": {
        "id": "G3YSIq-L0W06"
      },
      "source": [
        "path = \"/content/drive/My Drive/HW5_RNN/I..N..C..Ind..csv\"\n",
        "rawdata = pd.read_csv(path)\n",
        "Test = rawdata.iloc[:rawdata.loc[rawdata[\"<DTYYYYMMDD>\"]==20191222].index[0]+1]['<CLOSE>']\n",
        "Train = rawdata.iloc[rawdata.loc[rawdata[\"<DTYYYYMMDD>\"]==20191222].index[0]+1:]['<CLOSE>']\n",
        "\n",
        "x_Train=np.asarray(Train.iloc[:Train.size-1])\n",
        "y_Train=np.asarray(Train.iloc[1:])\n",
        "\n",
        "logdir = os.path.join(\"I..N..C..Ind.\", \"Jordan\")\n",
        "tensorboard_callback = tf.keras.callbacks.TensorBoard(logdir, histogram_freq=1)\n",
        "\n",
        "jordan.fit(x_Train, y_Train, epochs=20,batch_size=1,callbacks=[tensorboard_callback])\n",
        "\n",
        "logdir = os.path.join(\"I..N..C..Ind.\", \"Elman\")\n",
        "tensorboard_callback = tf.keras.callbacks.TensorBoard(logdir, histogram_freq=1)\n",
        "\n",
        "elman.fit(x_Train, y_Train, epochs=20,batch_size=1,callbacks=[tensorboard_callback])\n",
        "\n",
        "logdir = os.path.join(\"I..N..C..Ind.\", \"RMLP\")\n",
        "tensorboard_callback = tf.keras.callbacks.TensorBoard(logdir)\n",
        "\n",
        "RMLP.fit(x_Train, y_Train, epochs=20,batch_size=1,callbacks=[tensorboard_callback])"
      ],
      "execution_count": null,
      "outputs": []
    },
    {
      "cell_type": "markdown",
      "metadata": {
        "id": "L8LzeKpc0Whw"
      },
      "source": [
        "# Iran.Khodro"
      ]
    },
    {
      "cell_type": "code",
      "metadata": {
        "id": "4hlQrmse0Why"
      },
      "source": [
        "path = \"/content/drive/My Drive/HW5_RNN/Iran.Khodro.csv\"\n",
        "rawdata = pd.read_csv(path)\n",
        "Test = rawdata.iloc[:rawdata.loc[rawdata[\"<DTYYYYMMDD>\"]==20191222].index[0]+1]['<CLOSE>']\n",
        "Train = rawdata.iloc[rawdata.loc[rawdata[\"<DTYYYYMMDD>\"]==20191222].index[0]+1:]['<CLOSE>']\n",
        "\n",
        "x_Train=np.asarray(Train.iloc[:Train.size-1])\n",
        "y_Train=np.asarray(Train.iloc[1:])\n",
        "\n",
        "logdir = os.path.join(\"Iran.Khodro\", \"Jordan\")\n",
        "tensorboard_callback = tf.keras.callbacks.TensorBoard(logdir, histogram_freq=1)\n",
        "\n",
        "jordan.fit(x_Train, y_Train, epochs=20,batch_size=1,callbacks=[tensorboard_callback])\n",
        "\n",
        "logdir = os.path.join(\"Iran.Khodro\", \"Elman\")\n",
        "tensorboard_callback = tf.keras.callbacks.TensorBoard(logdir, histogram_freq=1)\n",
        "\n",
        "elman.fit(x_Train, y_Train, epochs=20,batch_size=1,callbacks=[tensorboard_callback])\n",
        "\n",
        "logdir = os.path.join(\"Iran.Khodro\", \"RMLP\")\n",
        "tensorboard_callback = tf.keras.callbacks.TensorBoard(logdir)\n",
        "\n",
        "RMLP.fit(x_Train, y_Train, epochs=20,batch_size=1,callbacks=[tensorboard_callback])"
      ],
      "execution_count": null,
      "outputs": []
    },
    {
      "cell_type": "markdown",
      "metadata": {
        "id": "YXjHMdbv0WQX"
      },
      "source": [
        "# Iran.Mobil.Tele"
      ]
    },
    {
      "cell_type": "code",
      "metadata": {
        "id": "ntq4yl630WQc"
      },
      "source": [
        "path = \"/content/drive/My Drive/HW5_RNN/Iran.Mobil.Tele.csv\"\n",
        "rawdata = pd.read_csv(path)\n",
        "Test = rawdata.iloc[:rawdata.loc[rawdata[\"<DTYYYYMMDD>\"]==20191222].index[0]+1]['<CLOSE>']\n",
        "Train = rawdata.iloc[rawdata.loc[rawdata[\"<DTYYYYMMDD>\"]==20191222].index[0]+1:]['<CLOSE>']\n",
        "\n",
        "x_Train=np.asarray(Train.iloc[:Train.size-1])\n",
        "y_Train=np.asarray(Train.iloc[1:])\n",
        "\n",
        "logdir = os.path.join(\"Iran.Mobil.Tele\", \"Jordan\")\n",
        "tensorboard_callback = tf.keras.callbacks.TensorBoard(logdir, histogram_freq=1)\n",
        "\n",
        "jordan.fit(x_Train, y_Train, epochs=20,batch_size=1,callbacks=[tensorboard_callback])\n",
        "\n",
        "logdir = os.path.join(\"Iran.Mobil.Tele\", \"Elman\")\n",
        "tensorboard_callback = tf.keras.callbacks.TensorBoard(logdir, histogram_freq=1)\n",
        "\n",
        "elman.fit(x_Train, y_Train, epochs=20,batch_size=1,callbacks=[tensorboard_callback])\n",
        "\n",
        "logdir = os.path.join(\"Iran.Mobil.Tele\", \"RMLP\")\n",
        "tensorboard_callback = tf.keras.callbacks.TensorBoard(logdir)\n",
        "\n",
        "RMLP.fit(x_Train, y_Train, epochs=20,batch_size=1,callbacks=[tensorboard_callback])"
      ],
      "execution_count": null,
      "outputs": []
    },
    {
      "cell_type": "markdown",
      "metadata": {
        "id": "12EAFslU0WAi"
      },
      "source": [
        "# Khalij.Fars"
      ]
    },
    {
      "cell_type": "code",
      "metadata": {
        "id": "vR_IPIYX0WAl"
      },
      "source": [
        "path = \"/content/drive/My Drive/HW5_RNN/Khalij.Fars.csv\"\n",
        "rawdata = pd.read_csv(path)\n",
        "Test = rawdata.iloc[:rawdata.loc[rawdata[\"<DTYYYYMMDD>\"]==20191222].index[0]+1]['<CLOSE>']\n",
        "Train = rawdata.iloc[rawdata.loc[rawdata[\"<DTYYYYMMDD>\"]==20191222].index[0]+1:]['<CLOSE>']\n",
        "\n",
        "x_Train=np.asarray(Train.iloc[:Train.size-1])\n",
        "y_Train=np.asarray(Train.iloc[1:])\n",
        "\n",
        "logdir = os.path.join(\"Khalij.Fars\", \"Jordan\")\n",
        "tensorboard_callback = tf.keras.callbacks.TensorBoard(logdir, histogram_freq=1)\n",
        "\n",
        "jordan.fit(x_Train, y_Train, epochs=20,batch_size=1,callbacks=[tensorboard_callback])\n",
        "\n",
        "logdir = os.path.join(\"Khalij.Fars\", \"Elman\")\n",
        "tensorboard_callback = tf.keras.callbacks.TensorBoard(logdir, histogram_freq=1)\n",
        "\n",
        "elman.fit(x_Train, y_Train, epochs=20,batch_size=1,callbacks=[tensorboard_callback])\n",
        "\n",
        "logdir = os.path.join(\"Khalij.Fars\", \"RMLP\")\n",
        "tensorboard_callback = tf.keras.callbacks.TensorBoard(logdir)\n",
        "\n",
        "RMLP.fit(x_Train, y_Train, epochs=20,batch_size=1,callbacks=[tensorboard_callback])"
      ],
      "execution_count": null,
      "outputs": []
    },
    {
      "cell_type": "markdown",
      "metadata": {
        "id": "AmOqUCtu0Vxr"
      },
      "source": [
        "# Mobarakeh.Steel"
      ]
    },
    {
      "cell_type": "code",
      "metadata": {
        "id": "1OOaSRHe0Vxt"
      },
      "source": [
        "path = \"/content/drive/My Drive/HW5_RNN/Mobarakeh.Steel.csv\"\n",
        "rawdata = pd.read_csv(path)\n",
        "Test = rawdata.iloc[:rawdata.loc[rawdata[\"<DTYYYYMMDD>\"]==20191222].index[0]+1]['<CLOSE>']\n",
        "Train = rawdata.iloc[rawdata.loc[rawdata[\"<DTYYYYMMDD>\"]==20191222].index[0]+1:]['<CLOSE>']\n",
        "\n",
        "x_Train=np.asarray(Train.iloc[:Train.size-1])\n",
        "y_Train=np.asarray(Train.iloc[1:])\n",
        "\n",
        "logdir = os.path.join(\"Mobarakeh.Steel\", \"Jordan\")\n",
        "tensorboard_callback = tf.keras.callbacks.TensorBoard(logdir, histogram_freq=1)\n",
        "\n",
        "jordan.fit(x_Train, y_Train, epochs=20,batch_size=1,callbacks=[tensorboard_callback])\n",
        "\n",
        "logdir = os.path.join(\"Mobarakeh.Steel\", \"Elman\")\n",
        "tensorboard_callback = tf.keras.callbacks.TensorBoard(logdir, histogram_freq=1)\n",
        "\n",
        "elman.fit(x_Train, y_Train, epochs=20,batch_size=1,callbacks=[tensorboard_callback])\n",
        "\n",
        "logdir = os.path.join(\"Mobarakeh.Steel\", \"RMLP\")\n",
        "tensorboard_callback = tf.keras.callbacks.TensorBoard(logdir)\n",
        "\n",
        "RMLP.fit(x_Train, y_Train, epochs=20,batch_size=1,callbacks=[tensorboard_callback])"
      ],
      "execution_count": null,
      "outputs": []
    },
    {
      "cell_type": "markdown",
      "metadata": {
        "id": "tTUn2smm0Vd4"
      },
      "source": [
        "# Saipa"
      ]
    },
    {
      "cell_type": "code",
      "metadata": {
        "id": "p1X9AOYz0Vd7"
      },
      "source": [
        "path = \"/content/drive/My Drive/HW5_RNN/Saipa.csv\"\n",
        "rawdata = pd.read_csv(path)\n",
        "Test = rawdata.iloc[:rawdata.loc[rawdata[\"<DTYYYYMMDD>\"]==20191222].index[0]+1]['<CLOSE>']\n",
        "Train = rawdata.iloc[rawdata.loc[rawdata[\"<DTYYYYMMDD>\"]==20191222].index[0]+1:]['<CLOSE>']\n",
        "\n",
        "x_Train=np.asarray(Train.iloc[:Train.size-1])\n",
        "y_Train=np.asarray(Train.iloc[1:])\n",
        "\n",
        "logdir = os.path.join(\"Saipa\", \"Jordan\")\n",
        "tensorboard_callback = tf.keras.callbacks.TensorBoard(logdir, histogram_freq=1)\n",
        "\n",
        "jordan.fit(x_Train, y_Train, epochs=20,batch_size=1,callbacks=[tensorboard_callback])\n",
        "\n",
        "logdir = os.path.join(\"Saipa\", \"Elman\")\n",
        "tensorboard_callback = tf.keras.callbacks.TensorBoard(logdir, histogram_freq=1)\n",
        "\n",
        "elman.fit(x_Train, y_Train, epochs=20,batch_size=1,callbacks=[tensorboard_callback])\n",
        "\n",
        "logdir = os.path.join(\"Saipa\", \"RMLP\")\n",
        "tensorboard_callback = tf.keras.callbacks.TensorBoard(logdir)\n",
        "\n",
        "RMLP.fit(x_Train, y_Train, epochs=20,batch_size=1,callbacks=[tensorboard_callback])"
      ],
      "execution_count": null,
      "outputs": []
    },
    {
      "cell_type": "markdown",
      "metadata": {
        "id": "Mxt2njWS3yl6"
      },
      "source": [
        "# F..&.Kh..Cement"
      ]
    },
    {
      "cell_type": "code",
      "metadata": {
        "id": "l0ep4i083yl9"
      },
      "source": [
        "path = \"/content/drive/My Drive/HW5_RNN/F..&.Kh..Cement.csv\"\n",
        "rawdata = pd.read_csv(path)\n",
        "Test = rawdata.iloc[:rawdata.loc[rawdata[\"<DTYYYYMMDD>\"]==20191222].index[0]+1]['<CLOSE>']\n",
        "Train = rawdata.iloc[rawdata.loc[rawdata[\"<DTYYYYMMDD>\"]==20191222].index[0]+1:]['<CLOSE>']\n",
        "\n",
        "x_Train=np.asarray(Train.iloc[:Train.size-1])\n",
        "y_Train=np.asarray(Train.iloc[1:])\n",
        "\n",
        "logdir = os.path.join(\"F..&.Kh..Cement\", \"Jordan\")\n",
        "tensorboard_callback = tf.keras.callbacks.TensorBoard(logdir, histogram_freq=1)\n",
        "\n",
        "jordan.fit(x_Train, y_Train, epochs=20,batch_size=1,callbacks=[tensorboard_callback])\n",
        "\n",
        "logdir = os.path.join(\"F..&.Kh..Cement\", \"Elman\")\n",
        "tensorboard_callback = tf.keras.callbacks.TensorBoard(logdir, histogram_freq=1)\n",
        "\n",
        "elman.fit(x_Train, y_Train, epochs=20,batch_size=1,callbacks=[tensorboard_callback])\n",
        "\n",
        "logdir = os.path.join(\"F..&.Kh..Cement\", \"RMLP\")\n",
        "tensorboard_callback = tf.keras.callbacks.TensorBoard(logdir)\n",
        "\n",
        "RMLP.fit(x_Train, y_Train, epochs=20,batch_size=1,callbacks=[tensorboard_callback])"
      ],
      "execution_count": null,
      "outputs": []
    },
    {
      "cell_type": "markdown",
      "metadata": {
        "id": "HDXGcrK931VM"
      },
      "source": [
        "# Iran.Tele..Co."
      ]
    },
    {
      "cell_type": "code",
      "metadata": {
        "id": "aCI2v5eh31VO"
      },
      "source": [
        "path = \"/content/drive/My Drive/HW5_RNN/Iran.Tele..Co..csv\"\n",
        "rawdata = pd.read_csv(path)\n",
        "Test = rawdata.iloc[:rawdata.loc[rawdata[\"<DTYYYYMMDD>\"]==20191222].index[0]+1]['<CLOSE>']\n",
        "Train = rawdata.iloc[rawdata.loc[rawdata[\"<DTYYYYMMDD>\"]==20191222].index[0]+1:]['<CLOSE>']\n",
        "\n",
        "x_Train=np.asarray(Train.iloc[:Train.size-1])\n",
        "y_Train=np.asarray(Train.iloc[1:])\n",
        "\n",
        "logdir = os.path.join(\"Iran.Tele..Co.\", \"Jordan\")\n",
        "tensorboard_callback = tf.keras.callbacks.TensorBoard(logdir, histogram_freq=1)\n",
        "\n",
        "jordan.fit(x_Train, y_Train, epochs=20,batch_size=1,callbacks=[tensorboard_callback])\n",
        "\n",
        "logdir = os.path.join(\"Iran.Tele..Co.\", \"Elman\")\n",
        "tensorboard_callback = tf.keras.callbacks.TensorBoard(logdir, histogram_freq=1)\n",
        "\n",
        "elman.fit(x_Train, y_Train, epochs=20,batch_size=1,callbacks=[tensorboard_callback])\n",
        "\n",
        "logdir = os.path.join(\"Iran.Tele..Co.\", \"RMLP\")\n",
        "tensorboard_callback = tf.keras.callbacks.TensorBoard(logdir)\n",
        "\n",
        "RMLP.fit(x_Train, y_Train, epochs=20,batch_size=1,callbacks=[tensorboard_callback])"
      ],
      "execution_count": null,
      "outputs": []
    }
  ]
}